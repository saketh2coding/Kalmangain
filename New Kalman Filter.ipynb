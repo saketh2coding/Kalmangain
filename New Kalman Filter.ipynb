{
 "cells": [
  {
   "cell_type": "code",
   "execution_count": 1,
   "metadata": {},
   "outputs": [],
   "source": [
    "import numpy as np\n",
    "from matplotlib import pyplot as plt\n",
    "import pandas as pd"
   ]
  },
  {
   "cell_type": "code",
   "execution_count": 2,
   "metadata": {},
   "outputs": [],
   "source": [
    "data = pd.read_stata(\"KalmanFile1.dta\")"
   ]
  },
  {
   "cell_type": "code",
   "execution_count": 3,
   "metadata": {},
   "outputs": [],
   "source": [
    "data1 = data[data['crsp_cl_grp'] == 2017461.0].reset_index(drop = True)"
   ]
  },
  {
   "cell_type": "code",
   "execution_count": 4,
   "metadata": {},
   "outputs": [],
   "source": [
    "data1['year'] = data1['year'].astype(int) "
   ]
  },
  {
   "cell_type": "code",
   "execution_count": 5,
   "metadata": {},
   "outputs": [],
   "source": [
    "data1.columns = ['$Fund$','year','quarter','$q_t$','$f_{t}$','$r_t$','$\\\\sigma_t$','$\\\\sigma_t^*$','$t$']"
   ]
  },
  {
   "cell_type": "code",
   "execution_count": 6,
   "metadata": {},
   "outputs": [],
   "source": [
    "data1[['$r_{t+1}$','$f_{t+1}$','$\\\\sigma_{t+1}$','$\\\\sigma_{t+1}^*$','$q_{t+1}$']] = data1[['$r_t$','$f_{t}$','$\\\\sigma_t$','$\\\\sigma_t^*$','$q_t$']].shift(periods =-1)"
   ]
  },
  {
   "cell_type": "code",
   "execution_count": 7,
   "metadata": {},
   "outputs": [],
   "source": [
    "data1['$\\\\Delta q_{t+1}$'] = data1['$q_{t+1}$']-data1['$q_t$']\n",
    "data1['$\\\\sigma_{t+1}^2$'] = data1['$\\\\sigma_{t+1}$']**2\n",
    "data1['$\\\\sigma_t^2$'] = data1['$\\\\sigma_t$']**2\n",
    "data1['$\\\\Delta\\\\sigma_{t+1}^2$'] = data1['$\\\\sigma_{t+1}^2$']-data1['$\\\\sigma_t^2$']\n",
    "data1['$\\\\Delta CV_{t+1}$'] = data1['$\\\\Delta\\\\sigma_{t+1}^2$']/data1['$r_{t+1}$']"
   ]
  },
  {
   "cell_type": "code",
   "execution_count": 8,
   "metadata": {},
   "outputs": [],
   "source": [
    "df = data1[['$Fund$', '$t$', '$r_{t+1}$','$\\Delta q_{t+1}$', '$\\sigma_{t+1}^2$','$\\Delta CV_{t+1}$','$\\\\Delta\\\\sigma_{t+1}^2$']]"
   ]
  },
  {
   "cell_type": "code",
   "execution_count": 9,
   "metadata": {},
   "outputs": [],
   "source": [
    "df = df.dropna().reset_index(drop=True)"
   ]
  },
  {
   "cell_type": "code",
   "execution_count": 10,
   "metadata": {},
   "outputs": [],
   "source": [
    "df['$y_t$'] = df['$\\Delta q_{t+1}$']/df['$r_{t+1}$']"
   ]
  },
  {
   "cell_type": "code",
   "execution_count": 11,
   "metadata": {},
   "outputs": [
    {
     "data": {
      "text/html": [
       "<div>\n",
       "<style scoped>\n",
       "    .dataframe tbody tr th:only-of-type {\n",
       "        vertical-align: middle;\n",
       "    }\n",
       "\n",
       "    .dataframe tbody tr th {\n",
       "        vertical-align: top;\n",
       "    }\n",
       "\n",
       "    .dataframe thead th {\n",
       "        text-align: right;\n",
       "    }\n",
       "</style>\n",
       "<table border=\"1\" class=\"dataframe\">\n",
       "  <thead>\n",
       "    <tr style=\"text-align: right;\">\n",
       "      <th></th>\n",
       "      <th>$Fund$</th>\n",
       "      <th>$t$</th>\n",
       "      <th>$r_{t+1}$</th>\n",
       "      <th>$\\Delta q_{t+1}$</th>\n",
       "      <th>$\\sigma_{t+1}^2$</th>\n",
       "      <th>$\\Delta CV_{t+1}$</th>\n",
       "      <th>$\\Delta\\sigma_{t+1}^2$</th>\n",
       "      <th>$y_t$</th>\n",
       "    </tr>\n",
       "  </thead>\n",
       "  <tbody>\n",
       "    <tr>\n",
       "      <th>0</th>\n",
       "      <td>2017461.0</td>\n",
       "      <td>1999-10-01</td>\n",
       "      <td>25.016842</td>\n",
       "      <td>42.200012</td>\n",
       "      <td>591.157654</td>\n",
       "      <td>13.500421</td>\n",
       "      <td>337.737885</td>\n",
       "      <td>1.686864</td>\n",
       "    </tr>\n",
       "    <tr>\n",
       "      <th>1</th>\n",
       "      <td>2017461.0</td>\n",
       "      <td>2000-01-01</td>\n",
       "      <td>-33.653526</td>\n",
       "      <td>-65.599976</td>\n",
       "      <td>841.011719</td>\n",
       "      <td>-7.424305</td>\n",
       "      <td>249.854065</td>\n",
       "      <td>1.949275</td>\n",
       "    </tr>\n",
       "    <tr>\n",
       "      <th>2</th>\n",
       "      <td>2017461.0</td>\n",
       "      <td>2000-04-01</td>\n",
       "      <td>18.666679</td>\n",
       "      <td>82.399963</td>\n",
       "      <td>231.188538</td>\n",
       "      <td>-32.669075</td>\n",
       "      <td>-609.823181</td>\n",
       "      <td>4.414281</td>\n",
       "    </tr>\n",
       "    <tr>\n",
       "      <th>3</th>\n",
       "      <td>2017461.0</td>\n",
       "      <td>2000-07-01</td>\n",
       "      <td>-21.791695</td>\n",
       "      <td>-22.699951</td>\n",
       "      <td>754.213684</td>\n",
       "      <td>-24.001123</td>\n",
       "      <td>523.025146</td>\n",
       "      <td>1.041679</td>\n",
       "    </tr>\n",
       "    <tr>\n",
       "      <th>4</th>\n",
       "      <td>2017461.0</td>\n",
       "      <td>2000-10-01</td>\n",
       "      <td>32.792274</td>\n",
       "      <td>91.299988</td>\n",
       "      <td>658.444397</td>\n",
       "      <td>-2.920483</td>\n",
       "      <td>-95.769287</td>\n",
       "      <td>2.784192</td>\n",
       "    </tr>\n",
       "    <tr>\n",
       "      <th>...</th>\n",
       "      <td>...</td>\n",
       "      <td>...</td>\n",
       "      <td>...</td>\n",
       "      <td>...</td>\n",
       "      <td>...</td>\n",
       "      <td>...</td>\n",
       "      <td>...</td>\n",
       "      <td>...</td>\n",
       "    </tr>\n",
       "    <tr>\n",
       "      <th>73</th>\n",
       "      <td>2017461.0</td>\n",
       "      <td>2018-01-01</td>\n",
       "      <td>5.292100</td>\n",
       "      <td>-10.199982</td>\n",
       "      <td>154.426804</td>\n",
       "      <td>-42.608372</td>\n",
       "      <td>-225.487778</td>\n",
       "      <td>-1.927398</td>\n",
       "    </tr>\n",
       "    <tr>\n",
       "      <th>74</th>\n",
       "      <td>2017461.0</td>\n",
       "      <td>2018-04-01</td>\n",
       "      <td>-12.255882</td>\n",
       "      <td>-11.200012</td>\n",
       "      <td>54.902573</td>\n",
       "      <td>8.120527</td>\n",
       "      <td>-99.524231</td>\n",
       "      <td>0.913848</td>\n",
       "    </tr>\n",
       "    <tr>\n",
       "      <th>75</th>\n",
       "      <td>2017461.0</td>\n",
       "      <td>2018-07-01</td>\n",
       "      <td>-18.435755</td>\n",
       "      <td>-95.399994</td>\n",
       "      <td>586.651611</td>\n",
       "      <td>-28.843355</td>\n",
       "      <td>531.749023</td>\n",
       "      <td>5.174727</td>\n",
       "    </tr>\n",
       "    <tr>\n",
       "      <th>76</th>\n",
       "      <td>2017461.0</td>\n",
       "      <td>2018-10-01</td>\n",
       "      <td>4.173483</td>\n",
       "      <td>41.799988</td>\n",
       "      <td>197.973831</td>\n",
       "      <td>-93.130318</td>\n",
       "      <td>-388.677795</td>\n",
       "      <td>10.015613</td>\n",
       "    </tr>\n",
       "    <tr>\n",
       "      <th>77</th>\n",
       "      <td>2017461.0</td>\n",
       "      <td>2019-01-01</td>\n",
       "      <td>4.287485</td>\n",
       "      <td>-0.399994</td>\n",
       "      <td>149.989075</td>\n",
       "      <td>-11.191819</td>\n",
       "      <td>-47.984756</td>\n",
       "      <td>-0.093293</td>\n",
       "    </tr>\n",
       "  </tbody>\n",
       "</table>\n",
       "<p>78 rows × 8 columns</p>\n",
       "</div>"
      ],
      "text/plain": [
       "       $Fund$        $t$  $r_{t+1}$  $\\Delta q_{t+1}$  $\\sigma_{t+1}^2$  \\\n",
       "0   2017461.0 1999-10-01  25.016842         42.200012        591.157654   \n",
       "1   2017461.0 2000-01-01 -33.653526        -65.599976        841.011719   \n",
       "2   2017461.0 2000-04-01  18.666679         82.399963        231.188538   \n",
       "3   2017461.0 2000-07-01 -21.791695        -22.699951        754.213684   \n",
       "4   2017461.0 2000-10-01  32.792274         91.299988        658.444397   \n",
       "..        ...        ...        ...               ...               ...   \n",
       "73  2017461.0 2018-01-01   5.292100        -10.199982        154.426804   \n",
       "74  2017461.0 2018-04-01 -12.255882        -11.200012         54.902573   \n",
       "75  2017461.0 2018-07-01 -18.435755        -95.399994        586.651611   \n",
       "76  2017461.0 2018-10-01   4.173483         41.799988        197.973831   \n",
       "77  2017461.0 2019-01-01   4.287485         -0.399994        149.989075   \n",
       "\n",
       "    $\\Delta CV_{t+1}$  $\\Delta\\sigma_{t+1}^2$      $y_t$  \n",
       "0           13.500421              337.737885   1.686864  \n",
       "1           -7.424305              249.854065   1.949275  \n",
       "2          -32.669075             -609.823181   4.414281  \n",
       "3          -24.001123              523.025146   1.041679  \n",
       "4           -2.920483              -95.769287   2.784192  \n",
       "..                ...                     ...        ...  \n",
       "73         -42.608372             -225.487778  -1.927398  \n",
       "74           8.120527              -99.524231   0.913848  \n",
       "75         -28.843355              531.749023   5.174727  \n",
       "76         -93.130318             -388.677795  10.015613  \n",
       "77         -11.191819              -47.984756  -0.093293  \n",
       "\n",
       "[78 rows x 8 columns]"
      ]
     },
     "execution_count": 11,
     "metadata": {},
     "output_type": "execute_result"
    }
   ],
   "source": [
    "df"
   ]
  },
  {
   "cell_type": "markdown",
   "metadata": {},
   "source": [
    "# Transition\n",
    "## $$x_{t+1} = A x_t + B \\epsilon_{t+1}$$ "
   ]
  },
  {
   "cell_type": "code",
   "execution_count": 12,
   "metadata": {},
   "outputs": [],
   "source": [
    "A = np.array([[0,0,0,0],[0,0,0,0],[0,1,1,0],[0,0,1,0]])"
   ]
  },
  {
   "cell_type": "code",
   "execution_count": 13,
   "metadata": {},
   "outputs": [
    {
     "data": {
      "text/plain": [
       "array([[0, 0, 0, 0],\n",
       "       [0, 0, 0, 0],\n",
       "       [0, 1, 1, 0],\n",
       "       [0, 0, 1, 0]])"
      ]
     },
     "execution_count": 13,
     "metadata": {},
     "output_type": "execute_result"
    }
   ],
   "source": [
    "A"
   ]
  },
  {
   "cell_type": "code",
   "execution_count": 14,
   "metadata": {},
   "outputs": [],
   "source": [
    "B = np.array([[0,1],[1,0],[0,0],[0,0]])"
   ]
  },
  {
   "cell_type": "code",
   "execution_count": 15,
   "metadata": {},
   "outputs": [
    {
     "data": {
      "text/plain": [
       "array([[0, 1],\n",
       "       [1, 0],\n",
       "       [0, 0],\n",
       "       [0, 0]])"
      ]
     },
     "execution_count": 15,
     "metadata": {},
     "output_type": "execute_result"
    }
   ],
   "source": [
    "B"
   ]
  },
  {
   "cell_type": "markdown",
   "metadata": {},
   "source": [
    "$\\epsilon_{t+1} = White Noise$ ~$N(0,1)$"
   ]
  },
  {
   "cell_type": "code",
   "execution_count": 16,
   "metadata": {},
   "outputs": [],
   "source": [
    "E = np.array([[np.random.normal(0,1),np.random.normal(0,1)]]).transpose()"
   ]
  },
  {
   "cell_type": "code",
   "execution_count": 17,
   "metadata": {},
   "outputs": [
    {
     "data": {
      "text/plain": [
       "array([[1.04577871],\n",
       "       [0.19702137]])"
      ]
     },
     "execution_count": 17,
     "metadata": {},
     "output_type": "execute_result"
    }
   ],
   "source": [
    "E"
   ]
  },
  {
   "cell_type": "markdown",
   "metadata": {},
   "source": [
    "# initial $x_t$\n",
    "\n",
    "## $$x_t\\begin{equation*} = \\begin{pmatrix}\\lambda_{\\alpha t}\\\\\\lambda_{\\psi t}\\\\\\psi_{t+1}\\\\\\psi_{t}\\end{pmatrix}= \\begin{pmatrix}0\\\\0\\\\0\\\\0\\end{pmatrix}\\end{equation*} $$"
   ]
  },
  {
   "cell_type": "code",
   "execution_count": 18,
   "metadata": {},
   "outputs": [],
   "source": [
    "xt1i = np.array([[0,0,0,0]]).transpose()"
   ]
  },
  {
   "cell_type": "code",
   "execution_count": 19,
   "metadata": {},
   "outputs": [
    {
     "data": {
      "text/plain": [
       "array([[0],\n",
       "       [0],\n",
       "       [0],\n",
       "       [0]])"
      ]
     },
     "execution_count": 19,
     "metadata": {},
     "output_type": "execute_result"
    }
   ],
   "source": [
    "xt1i"
   ]
  },
  {
   "cell_type": "markdown",
   "metadata": {},
   "source": [
    "## $$x_{t+1} = A x_t + B \\epsilon_{t+1}$$ "
   ]
  },
  {
   "cell_type": "code",
   "execution_count": 20,
   "metadata": {},
   "outputs": [],
   "source": [
    "xt1 = A.dot(xt1i) + B.dot(E)"
   ]
  },
  {
   "cell_type": "code",
   "execution_count": 21,
   "metadata": {},
   "outputs": [
    {
     "data": {
      "text/plain": [
       "array([[0.19702137],\n",
       "       [1.04577871],\n",
       "       [0.        ],\n",
       "       [0.        ]])"
      ]
     },
     "execution_count": 21,
     "metadata": {},
     "output_type": "execute_result"
    }
   ],
   "source": [
    "xt1"
   ]
  },
  {
   "cell_type": "markdown",
   "metadata": {},
   "source": [
    "## Measure\n",
    "\n",
    "## $$Y_{t+1} = C_{t+1} x_{t+1} + D \\epsilon_{t+1}$$"
   ]
  },
  {
   "cell_type": "markdown",
   "metadata": {},
   "source": [
    "$$C = [1~~\\sigma_{t+1}^2~~ 0~~ \\Delta\\sigma_{t+1}^2]$$"
   ]
  },
  {
   "cell_type": "code",
   "execution_count": 22,
   "metadata": {},
   "outputs": [],
   "source": [
    "C = np.array([[1,df['$\\sigma_{t+1}^2$'][0],0,df['$\\\\Delta\\\\sigma_{t+1}^2$'][0]]])"
   ]
  },
  {
   "cell_type": "code",
   "execution_count": 23,
   "metadata": {},
   "outputs": [
    {
     "data": {
      "text/plain": [
       "array([[  1.        , 591.15765381,   0.        , 337.73788452]])"
      ]
     },
     "execution_count": 23,
     "metadata": {},
     "output_type": "execute_result"
    }
   ],
   "source": [
    "C"
   ]
  },
  {
   "cell_type": "code",
   "execution_count": 24,
   "metadata": {},
   "outputs": [],
   "source": [
    "D = np.array([[0,0]])"
   ]
  },
  {
   "cell_type": "code",
   "execution_count": 25,
   "metadata": {},
   "outputs": [
    {
     "data": {
      "text/plain": [
       "array([[0, 0]])"
      ]
     },
     "execution_count": 25,
     "metadata": {},
     "output_type": "execute_result"
    }
   ],
   "source": [
    "D"
   ]
  },
  {
   "cell_type": "markdown",
   "metadata": {},
   "source": [
    "## $$\\hat{Y_{t+1}} = C_{t+1} x_{t+1}$$"
   ]
  },
  {
   "cell_type": "code",
   "execution_count": 26,
   "metadata": {},
   "outputs": [],
   "source": [
    "y_hat = C.dot(xt1)"
   ]
  },
  {
   "cell_type": "code",
   "execution_count": 27,
   "metadata": {},
   "outputs": [
    {
     "data": {
      "text/plain": [
       "array([[618.41710897]])"
      ]
     },
     "execution_count": 27,
     "metadata": {},
     "output_type": "execute_result"
    }
   ],
   "source": [
    "y_hat"
   ]
  },
  {
   "cell_type": "markdown",
   "metadata": {},
   "source": [
    "## $$ error = Y_{t+1} - \\hat{Y_{t+1}}$$"
   ]
  },
  {
   "cell_type": "code",
   "execution_count": 28,
   "metadata": {},
   "outputs": [],
   "source": [
    "error = df['$y_t$'][0] - y_hat"
   ]
  },
  {
   "cell_type": "code",
   "execution_count": 29,
   "metadata": {},
   "outputs": [
    {
     "data": {
      "text/plain": [
       "array([[-616.73024484]])"
      ]
     },
     "execution_count": 29,
     "metadata": {},
     "output_type": "execute_result"
    }
   ],
   "source": [
    "error"
   ]
  },
  {
   "cell_type": "code",
   "execution_count": 30,
   "metadata": {},
   "outputs": [],
   "source": [
    "#error in the estimate\n",
    "Q = np.eye(4)"
   ]
  },
  {
   "cell_type": "code",
   "execution_count": 31,
   "metadata": {},
   "outputs": [],
   "source": [
    "## initial Process covariance matrix\n",
    "P_i = np.zeros_like(np.arange(16).reshape(4, 4) )"
   ]
  },
  {
   "cell_type": "code",
   "execution_count": 32,
   "metadata": {},
   "outputs": [],
   "source": [
    "# predicted process covariance matrix\n",
    "P_t = P_i + Q "
   ]
  },
  {
   "cell_type": "code",
   "execution_count": 33,
   "metadata": {},
   "outputs": [
    {
     "data": {
      "text/plain": [
       "array([[1., 0., 0., 0.],\n",
       "       [0., 1., 0., 0.],\n",
       "       [0., 0., 1., 0.],\n",
       "       [0., 0., 0., 1.]])"
      ]
     },
     "execution_count": 33,
     "metadata": {},
     "output_type": "execute_result"
    }
   ],
   "source": [
    "P_t"
   ]
  },
  {
   "cell_type": "markdown",
   "metadata": {},
   "source": [
    "## Kalman Gain\n",
    "\n",
    "## $$K = \\frac{P_tC'}{CP_tC'+R}$$\n",
    "\n",
    "$$R = error~in ~the~ observations~(y_t)$$"
   ]
  },
  {
   "cell_type": "code",
   "execution_count": 34,
   "metadata": {},
   "outputs": [],
   "source": [
    "## Kalman Gain\n",
    "Kalman = P_t.dot(C.transpose())/(C.dot(P_t).dot(C.transpose())+np.var(df['$y_t$']))\n",
    "## Updated estimates\n",
    "xt1_hat = xt1 + Kalman*error"
   ]
  },
  {
   "cell_type": "markdown",
   "metadata": {},
   "source": [
    "## $$\\hat{x_{t+1}} = x_{t+1} + K * error$$"
   ]
  },
  {
   "cell_type": "code",
   "execution_count": 35,
   "metadata": {},
   "outputs": [
    {
     "data": {
      "text/plain": [
       "array([[ 0.19569995],\n",
       "       [ 0.26460731],\n",
       "       [ 0.        ],\n",
       "       [-0.4462958 ]])"
      ]
     },
     "execution_count": 35,
     "metadata": {},
     "output_type": "execute_result"
    }
   ],
   "source": [
    "xt1_hat"
   ]
  },
  {
   "cell_type": "markdown",
   "metadata": {},
   "source": [
    "## $$\\hat{x_t}\\begin{equation*} = \\begin{pmatrix}\\lambda_{\\alpha t}\\\\\\lambda_{\\psi t}\\\\\\psi_{t+1}\\\\\\psi_{t}\\end{pmatrix}= \\begin{pmatrix}-0.9117967\\\\0.10754023\\\\0\\\\-0.17564115\\end{pmatrix}\\end{equation*} $$"
   ]
  },
  {
   "cell_type": "code",
   "execution_count": 36,
   "metadata": {},
   "outputs": [
    {
     "data": {
      "text/plain": [
       "array([[5.88933503]])"
      ]
     },
     "execution_count": 36,
     "metadata": {},
     "output_type": "execute_result"
    }
   ],
   "source": [
    "#updated Y_t\n",
    "C.dot(xt1_hat)"
   ]
  },
  {
   "cell_type": "code",
   "execution_count": null,
   "metadata": {},
   "outputs": [],
   "source": []
  }
 ],
 "metadata": {
  "kernelspec": {
   "display_name": "Python 3",
   "language": "python",
   "name": "python3"
  },
  "language_info": {
   "codemirror_mode": {
    "name": "ipython",
    "version": 3
   },
   "file_extension": ".py",
   "mimetype": "text/x-python",
   "name": "python",
   "nbconvert_exporter": "python",
   "pygments_lexer": "ipython3",
   "version": "3.7.6"
  }
 },
 "nbformat": 4,
 "nbformat_minor": 2
}
